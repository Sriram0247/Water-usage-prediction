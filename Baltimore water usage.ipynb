{
 "cells": [
  {
   "cell_type": "markdown",
   "metadata": {},
   "source": [
    "# Import Dataset"
   ]
  },
  {
   "cell_type": "code",
   "execution_count": 1,
   "metadata": {},
   "outputs": [],
   "source": [
    "from pandas import read_csv\n",
    "series = read_csv('water.csv', header = 0, index_col = 0)"
   ]
  },
  {
   "cell_type": "markdown",
   "metadata": {},
   "source": [
    "# Test Harness"
   ]
  },
  {
   "cell_type": "markdown",
   "metadata": {},
   "source": [
    "## (i) Define validation dataset"
   ]
  },
  {
   "cell_type": "markdown",
   "metadata": {},
   "source": [
    "Since the dataset is not current, we cannot easily collect updated data to validate the model. Hence, we will withhold the last 10 years of data from analysis and model selection. The final decade of data will be used to validate the final model."
   ]
  },
  {
   "cell_type": "code",
   "execution_count": 2,
   "metadata": {},
   "outputs": [
    {
     "name": "stdout",
     "output_type": "stream",
     "text": [
      "Dataset 69, Validation 10\n"
     ]
    }
   ],
   "source": [
    "split_point = len(series) - 10\n",
    "dataset, validation = series[0:split_point], series[split_point:]\n",
    "print('Dataset %d, Validation %d' % (len(dataset), len(validation)))\n",
    "dataset.to_csv('dataset.csv')\n",
    "validation.to_csv('validation.csv')"
   ]
  },
  {
   "cell_type": "markdown",
   "metadata": {},
   "source": [
    "The specific contents of these files are:\n",
    "* dataset.csv: Observations from 1885 to 1953 (69 observations)\n",
    "* validation.csv: Observations from 1954 to 1963 (10 observations)"
   ]
  },
  {
   "cell_type": "markdown",
   "metadata": {},
   "source": [
    "## (ii) Model Evaluation"
   ]
  },
  {
   "cell_type": "markdown",
   "metadata": {},
   "source": [
    "Model evaluation will be performed on the data in dataset.csv. It involves 2 elements:"
   ]
  },
  {
   "cell_type": "markdown",
   "metadata": {},
   "source": [
    "### 1) Performance measure"
   ]
  },
  {
   "cell_type": "markdown",
   "metadata": {},
   "source": [
    "Performanace of predictions will be evaluated using the root mean squared error (RMSE). This will give more weight to predictions that are grossly wrong and will have the same units as the original data."
   ]
  },
  {
   "cell_type": "markdown",
   "metadata": {},
   "source": [
    "### 2) Test strategy "
   ]
  },
  {
   "cell_type": "markdown",
   "metadata": {},
   "source": [
    "Candidate models will be evaluated using walk-forward validation. This method works as follows:\n",
    "* The first 50% of the dataset will be held back to train the model.\n",
    "* The remaining 50% of the dataset will be iterated to test the model.\n",
    "* For each step in the test dataset:\n",
    "  * A model will be trained.\n",
    "  * A one-step prediciton made, and the prediction stored for later evaluation.\n",
    "  * The actual observation from the test dataset will be added to the training dataset for the next iteration.\n",
    "* The predictions made during the enumeration of the test dataset will be evaluated and an RMSE score reported.\n",
    "\n",
    "Given the small size of the data, we will allow a model to be re-trained given all available data prior to each prediction."
   ]
  },
  {
   "cell_type": "markdown",
   "metadata": {},
   "source": [
    "# Persistence"
   ]
  },
  {
   "cell_type": "markdown",
   "metadata": {},
   "source": [
    "The first step before performing data analysis and modelling is to establish a baseline of performance. The baseline prediction for time series forecasting is called the naive forecast, or persistence.\n",
    "\n",
    "In this method of forecasting, the observation from the previous step is used as the prediction for the observation at the next step."
   ]
  },
  {
   "cell_type": "code",
   "execution_count": 3,
   "metadata": {},
   "outputs": [],
   "source": [
    "from sklearn.metrics import mean_squared_error\n",
    "from math import sqrt"
   ]
  },
  {
   "cell_type": "code",
   "execution_count": 4,
   "metadata": {},
   "outputs": [],
   "source": [
    "# Load data\n",
    "series = read_csv('dataset.csv', header = 0, index_col = 0)"
   ]
  },
  {
   "cell_type": "code",
   "execution_count": 5,
   "metadata": {},
   "outputs": [],
   "source": [
    "# Prepare data\n",
    "X = series.values\n",
    "X = X.astype('float32')\n",
    "train_size = int(len(X) * 0.50)\n",
    "train, test = X[0:train_size], X[train_size:]"
   ]
  },
  {
   "cell_type": "code",
   "execution_count": 6,
   "metadata": {},
   "outputs": [
    {
     "name": "stdout",
     "output_type": "stream",
     "text": [
      ">Predicted = 503.000, Expected = 503.000\n",
      ">Predicted = 503.000, Expected = 503.000\n",
      ">Predicted = 503.000, Expected = 515.000\n",
      ">Predicted = 515.000, Expected = 522.000\n",
      ">Predicted = 522.000, Expected = 492.000\n",
      ">Predicted = 492.000, Expected = 503.000\n",
      ">Predicted = 503.000, Expected = 503.000\n",
      ">Predicted = 503.000, Expected = 450.000\n",
      ">Predicted = 450.000, Expected = 432.000\n",
      ">Predicted = 432.000, Expected = 432.000\n",
      ">Predicted = 432.000, Expected = 458.000\n",
      ">Predicted = 458.000, Expected = 462.000\n",
      ">Predicted = 462.000, Expected = 503.000\n",
      ">Predicted = 503.000, Expected = 488.000\n",
      ">Predicted = 488.000, Expected = 466.000\n",
      ">Predicted = 466.000, Expected = 492.000\n",
      ">Predicted = 492.000, Expected = 503.000\n",
      ">Predicted = 503.000, Expected = 515.000\n",
      ">Predicted = 515.000, Expected = 500.000\n",
      ">Predicted = 500.000, Expected = 522.000\n",
      ">Predicted = 522.000, Expected = 575.000\n",
      ">Predicted = 575.000, Expected = 583.000\n",
      ">Predicted = 583.000, Expected = 587.000\n",
      ">Predicted = 587.000, Expected = 628.000\n",
      ">Predicted = 628.000, Expected = 640.000\n",
      ">Predicted = 640.000, Expected = 609.000\n",
      ">Predicted = 609.000, Expected = 606.000\n",
      ">Predicted = 606.000, Expected = 632.000\n",
      ">Predicted = 632.000, Expected = 617.000\n",
      ">Predicted = 617.000, Expected = 613.000\n",
      ">Predicted = 613.000, Expected = 598.000\n",
      ">Predicted = 598.000, Expected = 575.000\n",
      ">Predicted = 575.000, Expected = 564.000\n",
      ">Predicted = 564.000, Expected = 549.000\n",
      ">Predicted = 549.000, Expected = 538.000\n"
     ]
    }
   ],
   "source": [
    "# Walk-forward validation\n",
    "history = [x for x in train]\n",
    "predictions = list()\n",
    "for i in range(len(test)):\n",
    "    # Predict\n",
    "    yhat = history[-1]\n",
    "    predictions.append(yhat)\n",
    "    # Observation\n",
    "    obs = test[i]\n",
    "    history.append(obs)\n",
    "    print('>Predicted = %.3f, Expected = %.3f' % (yhat, obs))"
   ]
  },
  {
   "cell_type": "code",
   "execution_count": 7,
   "metadata": {},
   "outputs": [
    {
     "name": "stdout",
     "output_type": "stream",
     "text": [
      "RMSE: 21.975\n"
     ]
    }
   ],
   "source": [
    "# Report performance\n",
    "mse = mean_squared_error(test, predictions)\n",
    "rmse = sqrt(mse)\n",
    "print('RMSE: %.3f' % rmse)"
   ]
  },
  {
   "cell_type": "markdown",
   "metadata": {},
   "source": [
    "We observe that the persistence model achieved an RMSE of 21.975. This means that on average, the model was wrong by about 22 litres per capita per day for each prediction made."
   ]
  },
  {
   "cell_type": "markdown",
   "metadata": {},
   "source": [
    "# Data analysis"
   ]
  },
  {
   "cell_type": "markdown",
   "metadata": {},
   "source": [
    "## (1) Summary statistics "
   ]
  },
  {
   "cell_type": "code",
   "execution_count": 8,
   "metadata": {},
   "outputs": [
    {
     "name": "stdout",
     "output_type": "stream",
     "text": [
      "            Water\n",
      "count   69.000000\n",
      "mean   500.478261\n",
      "std     73.901685\n",
      "min    344.000000\n",
      "25%    458.000000\n",
      "50%    492.000000\n",
      "75%    538.000000\n",
      "max    662.000000\n"
     ]
    }
   ],
   "source": [
    "print(series.describe())"
   ]
  },
  {
   "cell_type": "markdown",
   "metadata": {},
   "source": [
    "* The mean is about 500, which we might consider our level in the series.\n",
    "* Standard deviation and percentiles suggest a reasonably tight spread around the mean."
   ]
  },
  {
   "cell_type": "markdown",
   "metadata": {},
   "source": [
    "## (2) Line plot"
   ]
  },
  {
   "cell_type": "code",
   "execution_count": 9,
   "metadata": {},
   "outputs": [
    {
     "data": {
      "image/png": "[encoded data removed]",
      "text/plain": [
       "<Figure size 432x288 with 1 Axes>"
      ]
     },
     "metadata": {
      "needs_background": "light"
     },
     "output_type": "display_data"
    }
   ],
   "source": [
    "from matplotlib import pyplot as plt\n",
    "series.plot()\n",
    "plt.show()"
   ]
  },
  {
   "cell_type": "markdown",
   "metadata": {},
   "source": [
    "* There is an overall increasing trend in water usage over time.\n",
    "* There do not appear to be any obvious outliers, although there are some large fluctuations. \n",
    "* There is a downward trend for the last few years of the series."
   ]
  },
  {
   "cell_type": "markdown",
   "metadata": {},
   "source": [
    "## (3) Density plot"
   ]
  },
  {
   "cell_type": "code",
   "execution_count": 10,
   "metadata": {},
   "outputs": [
    {
     "data": {
      "text/plain": [
       "array([[<matplotlib.axes._subplots.AxesSubplot object at 0x000002C4DBC7E888>]],\n",
       "      dtype=object)"
      ]
     },
     "execution_count": 10,
     "metadata": {},
     "output_type": "execute_result"
    },
    {
     "data": {
      "image/png": "[encoded data removed]",
      "text/plain": [
       "<Figure size 432x288 with 1 Axes>"
      ]
     },
     "metadata": {
      "needs_background": "light"
     },
     "output_type": "display_data"
    }
   ],
   "source": [
    "series.hist()"
   ]
  },
  {
   "cell_type": "code",
   "execution_count": 11,
   "metadata": {},
   "outputs": [
    {
     "data": {
      "text/plain": [
       "<matplotlib.axes._subplots.AxesSubplot at 0x2c4d8db6948>"
      ]
     },
     "execution_count": 11,
     "metadata": {},
     "output_type": "execute_result"
    },
    {
     "data": {
      "image/png": "[encoded data removed]",
      "text/plain": [
       "<Figure size 432x288 with 1 Axes>"
      ]
     },
     "metadata": {
      "needs_background": "light"
     },
     "output_type": "display_data"
    }
   ],
   "source": [
    "series.plot(kind = 'kde')"
   ]
  },
  {
   "cell_type": "markdown",
   "metadata": {},
   "source": [
    "* The distribution is not Gaussian, but is pretty close.\n",
    "* The distribution has a long right tail and may suggest an exponential distribution or a double Gaussian."
   ]
  },
  {
   "cell_type": "markdown",
   "metadata": {},
   "source": [
    "# ARIMA models"
   ]
  },
  {
   "cell_type": "markdown",
   "metadata": {},
   "source": [
    "Autoregressive Integrated Moving Average (ARIMA) models are used for this problem. We will approach modelling by both manual and automatic configuration of the ARIMA model. This section is broken down into 3 steps:"
   ]
  },
  {
   "cell_type": "markdown",
   "metadata": {},
   "source": [
    "## (1) Manually configured ARIMA "
   ]
  },
  {
   "cell_type": "markdown",
   "metadata": {},
   "source": [
    "Analysis of time series data assumes that we are working with a stationary time series. The time series is likely non-stationary. We can make it stationary by first differencing the series and using a statistical test to confirm that the result is stationary."
   ]
  },
  {
   "cell_type": "code",
   "execution_count": 12,
   "metadata": {},
   "outputs": [],
   "source": [
    "import pandas\n",
    "from statsmodels.tsa.stattools import adfuller\n",
    "from matplotlib import pyplot"
   ]
  },
  {
   "cell_type": "code",
   "execution_count": 13,
   "metadata": {},
   "outputs": [],
   "source": [
    "def difference(dataset):\n",
    "    diff = list()\n",
    "    for i in range(1, len(dataset)):\n",
    "        value = dataset[i] - dataset[i - 1]\n",
    "        diff.append(value)\n",
    "    return pandas.Series(diff)"
   ]
  },
  {
   "cell_type": "code",
   "execution_count": 14,
   "metadata": {},
   "outputs": [],
   "source": [
    "stationary = difference(X)\n",
    "stationary.index = series.index[1:]\n",
    "stationary = stationary.astype('float32')"
   ]
  },
  {
   "cell_type": "code",
   "execution_count": 15,
   "metadata": {},
   "outputs": [
    {
     "name": "stdout",
     "output_type": "stream",
     "text": [
      "ADF Statistic: -6.126719\n",
      "p-value: 0.000000\n",
      "Critical Values:\n",
      "\t1%: -3.534\n",
      "\t5%: -2.906\n",
      "\t10%: -2.591\n"
     ]
    }
   ],
   "source": [
    "result = adfuller(stationary)\n",
    "print('ADF Statistic: %f' % result[0])\n",
    "print('p-value: %f' % result[1])\n",
    "print('Critical Values:')\n",
    "for key, value in result[4].items():\n",
    "    print('\\t%s: %.3f' % (key, value))"
   ]
  },
  {
   "cell_type": "code",
   "execution_count": 16,
   "metadata": {},
   "outputs": [
    {
     "data": {
      "image/png": "[encoded data removed]",
      "text/plain": [
       "<Figure size 432x288 with 1 Axes>"
      ]
     },
     "metadata": {
      "needs_background": "light"
     },
     "output_type": "display_data"
    }
   ],
   "source": [
    "stationary.plot()\n",
    "pyplot.show()"
   ]
  },
  {
   "cell_type": "markdown",
   "metadata": {},
   "source": [
    "The next step is to select lag values for the Autoregressive (AR) and Moving Average (MA) parameters, p and q respectively."
   ]
  },
  {
   "cell_type": "code",
   "execution_count": 17,
   "metadata": {},
   "outputs": [],
   "source": [
    "from statsmodels.graphics.tsaplots import plot_acf\n",
    "from statsmodels.graphics.tsaplots import plot_pacf\n",
    "from matplotlib import pyplot"
   ]
  },
  {
   "cell_type": "code",
   "execution_count": 18,
   "metadata": {},
   "outputs": [
    {
     "data": {
      "image/png": "[encoded data removed]",
      "text/plain": [
       "<Figure size 432x288 with 1 Axes>"
      ]
     },
     "metadata": {
      "needs_background": "light"
     },
     "output_type": "display_data"
    }
   ],
   "source": [
    "pyplot.figure()\n",
    "plot_acf(stationary, ax = pyplot.gca())\n",
    "pyplot.show()"
   ]
  },
  {
   "cell_type": "code",
   "execution_count": 19,
   "metadata": {},
   "outputs": [
    {
     "data": {
      "image/png": "[encoded data removed]",
      "text/plain": [
       "<Figure size 432x288 with 1 Axes>"
      ]
     },
     "metadata": {
      "needs_background": "light"
     },
     "output_type": "display_data"
    }
   ],
   "source": [
    "pyplot.figure()\n",
    "plot_pacf(stationary, ax = pyplot.gca())\n",
    "pyplot.show()"
   ]
  },
  {
   "cell_type": "markdown",
   "metadata": {},
   "source": [
    "* PACF of the differenced series displays a sharp cut-off and the lag-1 autocorrelation is positive but insignificant. Hence, we will not have an AR term.\n",
    "* ACF of the differenced series also shows a sharp cut-off and the lag-1 autocorrelation is not negative. Hence, we will not add an MA term.\n",
    "* Hence, ARIMA(0,1,0) is a good starting point."
   ]
  },
  {
   "cell_type": "code",
   "execution_count": 20,
   "metadata": {},
   "outputs": [],
   "source": [
    "from sklearn.metrics import mean_squared_error\n",
    "from statsmodels.tsa.arima_model import ARIMA\n",
    "from math import sqrt"
   ]
  },
  {
   "cell_type": "code",
   "execution_count": 21,
   "metadata": {},
   "outputs": [],
   "source": [
    "series = read_csv('dataset.csv', header=0, index_col=0, parse_dates=True, squeeze=True)\n",
    "X = series.values\n",
    "X = X.astype('float32')\n",
    "train_size = int(len(X) * 0.50)\n",
    "train, test = X[0:train_size], X[train_size:]"
   ]
  },
  {
   "cell_type": "code",
   "execution_count": 22,
   "metadata": {},
   "outputs": [
    {
     "name": "stdout",
     "output_type": "stream",
     "text": [
      ">Predicted=507.455, Expected=503.000\n",
      ">Predicted=507.324, Expected=503.000\n",
      ">Predicted=507.200, Expected=515.000\n",
      ">Predicted=519.417, Expected=522.000\n",
      ">Predicted=526.486, Expected=492.000\n",
      ">Predicted=495.579, Expected=503.000\n",
      ">Predicted=506.769, Expected=503.000\n",
      ">Predicted=506.675, Expected=450.000\n",
      ">Predicted=452.293, Expected=432.000\n",
      ">Predicted=433.810, Expected=432.000\n",
      ">Predicted=433.767, Expected=458.000\n",
      ">Predicted=460.318, Expected=462.000\n",
      ">Predicted=464.356, Expected=503.000\n",
      ">Predicted=506.196, Expected=488.000\n",
      ">Predicted=490.809, Expected=466.000\n",
      ">Predicted=468.292, Expected=492.000\n",
      ">Predicted=494.776, Expected=503.000\n",
      ">Predicted=505.940, Expected=515.000\n",
      ">Predicted=518.118, Expected=500.000\n",
      ">Predicted=502.769, Expected=522.000\n",
      ">Predicted=525.132, Expected=575.000\n",
      ">Predicted=579.056, Expected=583.000\n",
      ">Predicted=587.127, Expected=587.000\n",
      ">Predicted=591.125, Expected=628.000\n",
      ">Predicted=632.772, Expected=640.000\n",
      ">Predicted=644.897, Expected=609.000\n",
      ">Predicted=613.288, Expected=606.000\n",
      ">Predicted=610.167, Expected=632.000\n",
      ">Predicted=636.525, Expected=617.000\n",
      ">Predicted=621.210, Expected=613.000\n",
      ">Predicted=617.079, Expected=598.000\n",
      ">Predicted=601.781, Expected=575.000\n",
      ">Predicted=578.369, Expected=564.000\n",
      ">Predicted=567.152, Expected=549.000\n",
      ">Predicted=551.881, Expected=538.000\n",
      "RMSE: 22.311\n"
     ]
    }
   ],
   "source": [
    "history = [x for x in train]\n",
    "predictions = list()\n",
    "for i in range(len(test)):\n",
    "    # Predict\n",
    "    model = ARIMA(history, order = (0,1,0))\n",
    "    model_fit = model.fit()\n",
    "    yhat = model_fit.forecast()[0]\n",
    "    predictions.append(yhat)\n",
    "    # Observation\n",
    "    obs = test[i]\n",
    "    history.append(obs)\n",
    "    print('>Predicted=%.3f, Expected=%.3f' % (yhat, obs))\n",
    "rmse = sqrt(mean_squared_error(test, predictions))\n",
    "print('RMSE: %.3f' % rmse)"
   ]
  },
  {
   "cell_type": "markdown",
   "metadata": {},
   "source": [
    "## (2) Grid Search ARIMA Hyperparameters"
   ]
  },
  {
   "cell_type": "code",
   "execution_count": 23,
   "metadata": {},
   "outputs": [],
   "source": [
    "import warnings\n",
    "def evaluate_arima_model(X, arima_order):\n",
    "    # Prepare training dataset\n",
    "    X = X.astype('float32')\n",
    "    train_size = int(len(X) * 0.50)\n",
    "    train, test = X[0:train_size], X[train_size:]\n",
    "    history = [x for x in train]\n",
    "    # Make predictions\n",
    "    predictions = list()\n",
    "    for t in range(len(test)):\n",
    "        model = ARIMA(history, order = arima_order)\n",
    "        model_fit = model.fit()\n",
    "        yhat = model_fit.forecast()[0]\n",
    "        predictions.append(yhat)\n",
    "        history.append(test[t])\n",
    "    # Calculate out of sample error\n",
    "    rmse = sqrt(mean_squared_error(test, predictions))\n",
    "    return rmse\n",
    "\n",
    "def evaluate_models(dataset, p_values, d_values, q_values):\n",
    "    dataset = dataset.astype('float32')\n",
    "    best_score, best_cfg = float(\"inf\"), None\n",
    "    for p in p_values:\n",
    "        for d in d_values:\n",
    "            for q in q_values:\n",
    "                order = (p,d,q)\n",
    "                try:\n",
    "                    rmse = evaluate_arima_model(dataset, order)\n",
    "                    if rmse <best_score:\n",
    "                        best_score, best_cfg = rmse, order\n",
    "                    print('ARIMA%s RMSE=%.3f' % (order,rmse))\n",
    "                except:\n",
    "                    continue\n",
    "    print('Best ARIMA%s RMSE=%.3f' % (best_cfg, best_score))"
   ]
  },
  {
   "cell_type": "code",
   "execution_count": 24,
   "metadata": {
    "scrolled": false
   },
   "outputs": [
    {
     "name": "stdout",
     "output_type": "stream",
     "text": [
      "ARIMA(0, 0, 0) RMSE=76.755\n",
      "ARIMA(0, 0, 1) RMSE=47.346\n",
      "ARIMA(0, 0, 2) RMSE=36.048\n",
      "ARIMA(0, 0, 3) RMSE=32.587\n",
      "ARIMA(0, 1, 0) RMSE=22.311\n",
      "ARIMA(0, 1, 1) RMSE=22.258\n",
      "ARIMA(0, 1, 2) RMSE=28.430\n",
      "ARIMA(0, 1, 3) RMSE=30.054\n",
      "ARIMA(0, 1, 4) RMSE=30.029\n",
      "ARIMA(0, 2, 0) RMSE=29.335\n",
      "ARIMA(0, 2, 1) RMSE=23.072\n",
      "ARIMA(0, 2, 2) RMSE=22.954\n",
      "ARIMA(0, 2, 3) RMSE=23.374\n",
      "ARIMA(0, 2, 4) RMSE=29.178\n",
      "ARIMA(1, 0, 0) RMSE=23.958\n",
      "ARIMA(1, 0, 1) RMSE=23.998\n",
      "ARIMA(1, 0, 2) RMSE=25.412\n",
      "ARIMA(1, 0, 3) RMSE=30.499\n",
      "ARIMA(1, 1, 0) RMSE=22.270\n",
      "ARIMA(1, 2, 0) RMSE=27.786\n",
      "ARIMA(1, 2, 1) RMSE=22.979\n",
      "ARIMA(2, 0, 0) RMSE=24.131\n",
      "ARIMA(2, 0, 1) RMSE=24.140\n",
      "ARIMA(2, 1, 0) RMSE=22.084\n",
      "ARIMA(2, 2, 0) RMSE=25.616\n",
      "ARIMA(3, 0, 0) RMSE=24.183\n",
      "ARIMA(3, 0, 1) RMSE=25.202\n",
      "ARIMA(3, 1, 0) RMSE=25.060\n",
      "ARIMA(3, 1, 1) RMSE=32.092\n",
      "ARIMA(3, 2, 0) RMSE=26.126\n",
      "ARIMA(3, 2, 1) RMSE=25.594\n",
      "ARIMA(4, 0, 0) RMSE=25.113\n",
      "ARIMA(4, 0, 1) RMSE=25.169\n",
      "ARIMA(4, 1, 0) RMSE=26.213\n",
      "ARIMA(4, 1, 1) RMSE=31.097\n",
      "ARIMA(4, 1, 2) RMSE=32.340\n",
      "ARIMA(4, 2, 0) RMSE=27.798\n",
      "ARIMA(4, 2, 1) RMSE=26.393\n",
      "ARIMA(4, 2, 2) RMSE=27.393\n",
      "Best ARIMA(2, 1, 0) RMSE=22.084\n"
     ]
    }
   ],
   "source": [
    "series = read_csv('dataset.csv', header=0, index_col=0, parse_dates=True, squeeze=True)\n",
    "p_values = range(0,5)\n",
    "d_values = range(0,3)\n",
    "q_values = range(0,5)\n",
    "warnings.filterwarnings(\"ignore\")\n",
    "evaluate_models(series.values, p_values, d_values, q_values)"
   ]
  },
  {
   "cell_type": "markdown",
   "metadata": {},
   "source": [
    "We will select ARIMA(2,1,0) moving forward."
   ]
  },
  {
   "cell_type": "markdown",
   "metadata": {},
   "source": [
    "## (3) Review Residual Errors"
   ]
  },
  {
   "cell_type": "markdown",
   "metadata": {},
   "source": [
    "Ideally, the distribution of residual errors should be Gaussian with zero mean."
   ]
  },
  {
   "cell_type": "code",
   "execution_count": 25,
   "metadata": {},
   "outputs": [],
   "source": [
    "history = [x for x in train]\n",
    "predictions = list()\n",
    "for i in range(len(test)):\n",
    "    # Predict\n",
    "    model = ARIMA(history, order = (2,1,0))\n",
    "    model_fit = model.fit()\n",
    "    yhat = model_fit.forecast()[0]\n",
    "    predictions.append(yhat)\n",
    "    # Observation\n",
    "    obs = test[i]\n",
    "    history.append(obs)"
   ]
  },
  {
   "cell_type": "code",
   "execution_count": 26,
   "metadata": {},
   "outputs": [
    {
     "name": "stdout",
     "output_type": "stream",
     "text": [
      "               0\n",
      "count  35.000000\n",
      "mean   -2.649321\n",
      "std    22.244594\n",
      "min   -55.933520\n",
      "25%   -19.569783\n",
      "50%    -5.046834\n",
      "75%     7.835831\n",
      "max    47.976412\n"
     ]
    }
   ],
   "source": [
    "from pandas import DataFrame\n",
    "residuals = [test[i] - predictions[i] for i in range(len(test))]\n",
    "residuals = DataFrame(residuals)\n",
    "print(residuals.describe())"
   ]
  },
  {
   "cell_type": "code",
   "execution_count": 27,
   "metadata": {},
   "outputs": [
    {
     "data": {
      "image/png": "[encoded data removed]",
      "text/plain": [
       "<Figure size 432x288 with 1 Axes>"
      ]
     },
     "metadata": {
      "needs_background": "light"
     },
     "output_type": "display_data"
    }
   ],
   "source": [
    "pyplot.figure()\n",
    "residuals.hist(ax = pyplot.gca())\n",
    "pyplot.show()"
   ]
  },
  {
   "cell_type": "code",
   "execution_count": 28,
   "metadata": {},
   "outputs": [
    {
     "data": {
      "image/png": "[encoded data removed]",
      "text/plain": [
       "<Figure size 432x288 with 1 Axes>"
      ]
     },
     "metadata": {
      "needs_background": "light"
     },
     "output_type": "display_data"
    }
   ],
   "source": [
    "pyplot.figure()\n",
    "residuals.plot(kind = 'kde', ax = pyplot.gca())\n",
    "pyplot.show()"
   ]
  },
  {
   "cell_type": "markdown",
   "metadata": {},
   "source": [
    "Perform bias-correction by adding the mean residual error of -2.649321 to each forecast made."
   ]
  },
  {
   "cell_type": "code",
   "execution_count": 29,
   "metadata": {},
   "outputs": [],
   "source": [
    "history = [x for x in train]\n",
    "predictions = list()\n",
    "bias = -2.649321\n",
    "for i in range(len(test)):\n",
    "    # Predict\n",
    "    model = ARIMA(history, order=(2,1,0))\n",
    "    model_fit = model.fit()\n",
    "    yhat = bias + float(model_fit.forecast()[0])\n",
    "    predictions.append(yhat)\n",
    "    # Observation\n",
    "    obs = test[i]\n",
    "    history.append(obs)"
   ]
  },
  {
   "cell_type": "code",
   "execution_count": 30,
   "metadata": {},
   "outputs": [
    {
     "name": "stdout",
     "output_type": "stream",
     "text": [
      "RMSE: 21.925\n"
     ]
    }
   ],
   "source": [
    "rmse = sqrt(mean_squared_error(test, predictions))\n",
    "print('RMSE: %.3f' % rmse)"
   ]
  },
  {
   "cell_type": "code",
   "execution_count": 31,
   "metadata": {},
   "outputs": [
    {
     "name": "stdout",
     "output_type": "stream",
     "text": [
      "                  0\n",
      "count  3.500000e+01\n",
      "mean  -2.623915e-07\n",
      "std    2.224459e+01\n",
      "min   -5.328420e+01\n",
      "25%   -1.692046e+01\n",
      "50%   -2.397513e+00\n",
      "75%    1.048515e+01\n",
      "max    5.062573e+01\n"
     ]
    }
   ],
   "source": [
    "residuals = [test[i] - predictions[i] for i in range(len(test))]\n",
    "residuals = DataFrame(residuals)\n",
    "print(residuals.describe())"
   ]
  },
  {
   "cell_type": "code",
   "execution_count": 32,
   "metadata": {},
   "outputs": [
    {
     "data": {
      "image/png": "[encoded data removed]",
      "text/plain": [
       "<Figure size 432x288 with 1 Axes>"
      ]
     },
     "metadata": {
      "needs_background": "light"
     },
     "output_type": "display_data"
    }
   ],
   "source": [
    "pyplot.figure()\n",
    "residuals.hist(ax = pyplot.gca())\n",
    "pyplot.show()"
   ]
  },
  {
   "cell_type": "code",
   "execution_count": 33,
   "metadata": {},
   "outputs": [
    {
     "data": {
      "image/png": "[encoded data removed]",
      "text/plain": [
       "<Figure size 432x288 with 1 Axes>"
      ]
     },
     "metadata": {
      "needs_background": "light"
     },
     "output_type": "display_data"
    }
   ],
   "source": [
    "pyplot.figure()\n",
    "residuals.plot(kind = 'kde', ax = pyplot.gca())\n",
    "pyplot.show()"
   ]
  },
  {
   "cell_type": "markdown",
   "metadata": {},
   "source": [
    "# Model Validation"
   ]
  },
  {
   "cell_type": "markdown",
   "metadata": {},
   "source": [
    "## (1) Finalize Model"
   ]
  },
  {
   "cell_type": "markdown",
   "metadata": {},
   "source": [
    "Fit ARIMA(2,1,0) model on the entire dataset"
   ]
  },
  {
   "cell_type": "code",
   "execution_count": 34,
   "metadata": {},
   "outputs": [],
   "source": [
    "model = ARIMA(X, order = (2,1,0))\n",
    "model_fit = model.fit()\n",
    "bias = -2.649321"
   ]
  },
  {
   "cell_type": "markdown",
   "metadata": {},
   "source": [
    "## (2) Make Prediction"
   ]
  },
  {
   "cell_type": "markdown",
   "metadata": {},
   "source": [
    "Make a prediction for the next time step and print the prediction."
   ]
  },
  {
   "cell_type": "code",
   "execution_count": 35,
   "metadata": {},
   "outputs": [
    {
     "name": "stdout",
     "output_type": "stream",
     "text": [
      "Predicted: 539.269\n"
     ]
    }
   ],
   "source": [
    "yhat = bias + float(model_fit.forecast()[0])\n",
    "print('Predicted: %.3f' % yhat)"
   ]
  },
  {
   "cell_type": "markdown",
   "metadata": {},
   "source": [
    "## (3) Validate Model"
   ]
  },
  {
   "cell_type": "markdown",
   "metadata": {},
   "source": [
    "Make forecasts using the rolling-forecast manner, updating the transform and model for each time step."
   ]
  },
  {
   "cell_type": "code",
   "execution_count": 36,
   "metadata": {},
   "outputs": [
    {
     "name": "stdout",
     "output_type": "stream",
     "text": [
      ">Predicted=539.269, Expected=568.000\n",
      ">Predicted=570.988, Expected=575.000\n",
      ">Predicted=572.603, Expected=579.000\n",
      ">Predicted=579.063, Expected=587.000\n",
      ">Predicted=587.624, Expected=602.000\n",
      ">Predicted=602.646, Expected=594.000\n",
      ">Predicted=592.797, Expected=587.000\n",
      ">Predicted=588.229, Expected=587.000\n",
      ">Predicted=588.347, Expected=625.000\n",
      ">Predicted=627.565, Expected=613.000\n"
     ]
    }
   ],
   "source": [
    "y = validation.values.astype('float32')\n",
    "predictions = list()\n",
    "yhat = bias + float(model_fit.forecast()[0])\n",
    "predictions.append(yhat)\n",
    "history.append(y[0])\n",
    "print('>Predicted=%.3f, Expected=%.3f' % (yhat, y[0]))\n",
    "for i in range(1, len(y)):\n",
    "    # Predict\n",
    "    model = ARIMA(history, order = (2,1,0))\n",
    "    model_fit = model.fit()\n",
    "    yhat = bias + float(model_fit.forecast()[0])\n",
    "    predictions.append(yhat)\n",
    "    # Observation\n",
    "    obs = y[i]\n",
    "    history.append(obs)\n",
    "    print('>Predicted=%.3f, Expected=%.3f' % (yhat, obs))"
   ]
  },
  {
   "cell_type": "markdown",
   "metadata": {},
   "source": [
    "**Report Performance**"
   ]
  },
  {
   "cell_type": "code",
   "execution_count": 37,
   "metadata": {},
   "outputs": [
    {
     "name": "stdout",
     "output_type": "stream",
     "text": [
      "RMSE: 16.786\n"
     ]
    }
   ],
   "source": [
    "rmse = sqrt(mean_squared_error(y, predictions))\n",
    "print('RMSE: %.3f' % rmse)"
   ]
  },
  {
   "cell_type": "code",
   "execution_count": 38,
   "metadata": {},
   "outputs": [
    {
     "data": {
      "image/png": "[encoded data removed]",
      "text/plain": [
       "<Figure size 432x288 with 1 Axes>"
      ]
     },
     "metadata": {
      "needs_background": "light"
     },
     "output_type": "display_data"
    }
   ],
   "source": [
    "pyplot.plot(y)\n",
    "pyplot.plot(predictions, color = 'red')\n",
    "pyplot.show()"
   ]
  }
 ],
 "metadata": {
  "kernelspec": {
   "display_name": "Python 3",
   "language": "python",
   "name": "python3"
  },
  "language_info": {
   "codemirror_mode": {
    "name": "ipython",
    "version": 3
   },
   "file_extension": ".py",
   "mimetype": "text/x-python",
   "name": "python",
   "nbconvert_exporter": "python",
   "pygments_lexer": "ipython3",
   "version": "3.7.6"
  }
 },
 "nbformat": 4,
 "nbformat_minor": 4
}
